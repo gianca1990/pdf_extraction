{
  "cells": [
    {
      "cell_type": "markdown",
      "metadata": {
        "id": "view-in-github",
        "colab_type": "text"
      },
      "source": [
        "<a href=\"https://colab.research.google.com/github/gianca1990/pdf_extraction/blob/main/berami.ipynb\" target=\"_parent\"><img src=\"https://colab.research.google.com/assets/colab-badge.svg\" alt=\"Open In Colab\"/></a>"
      ]
    },
    {
      "cell_type": "code",
      "source": [
        "from google import genai\n",
        "from google.genai import types\n",
        "import pathlib\n",
        "import httpx\n",
        "import csv"
      ],
      "metadata": {
        "id": "NvPcJo2zjUyf"
      },
      "execution_count": 1,
      "outputs": []
    },
    {
      "cell_type": "code",
      "source": [
        "# Initialize the Google GenAI client with the provided API key\n",
        "client = genai.Client(api_key=\"\")"
      ],
      "metadata": {
        "id": "heZ7qCvajiBo"
      },
      "execution_count": 78,
      "outputs": []
    },
    {
      "cell_type": "code",
      "source": [
        "# Filepath to the local PDF file\n",
        "filepath = pathlib.Path(\"/content/EIGENE_DATEIEN/TO_LOAD.pdf\")"
      ],
      "metadata": {
        "id": "_zMgatIQjj6D"
      },
      "execution_count": 42,
      "outputs": []
    },
    {
      "cell_type": "code",
      "source": [
        "# Read the PDF file as bytes\n",
        "pdf_bytes = filepath.read_bytes()"
      ],
      "metadata": {
        "id": "678Eh8GlkTEU"
      },
      "execution_count": 43,
      "outputs": []
    },
    {
      "cell_type": "markdown",
      "source": [
        "## Header"
      ],
      "metadata": {
        "id": "AsLOnw8SuazQ"
      }
    },
    {
      "cell_type": "code",
      "source": [
        "# Prompt for extracting specific data from the PDF\n",
        "prompt = \"\"\"\n",
        "Extract the following information from the attached PDF and return it as CSV:\n",
        "Datum:;\n",
        "Berater*in:;\n",
        "Extract the content of the fields that are marked with a checked checkbox (✔ or ☑) between 'Telefonberatung:' and 'E-Mail-/Präsenz-/Zoom-Beratung:'.\n",
        "\n",
        "Output only the marked text. Format the output as CSV with the headers:\n",
        "Datum;\n",
        "Berater*in;\n",
        "Beratung.\n",
        "\n",
        "Use semicolons as separators. If a piece of information is missing, leave the field blank. Only extract the dataset in the CSV format. Do not include any additional information, explanations, or text.\"\"\""
      ],
      "metadata": {
        "id": "Yz0UjXXkkVza"
      },
      "execution_count": 76,
      "outputs": []
    },
    {
      "cell_type": "code",
      "source": [
        "# Send the PDF and prompt to Google GenAI for content generation\n",
        "response = client.models.generate_content(\n",
        "  model=\"gemini-1.5-flash\",\n",
        "  contents=[\n",
        "      types.Part.from_bytes(\n",
        "        data=filepath.read_bytes(),\n",
        "        mime_type='application/pdf',\n",
        "      ),\n",
        "      prompt])"
      ],
      "metadata": {
        "id": "4TaaF3UpkmTA"
      },
      "execution_count": 79,
      "outputs": []
    },
    {
      "cell_type": "code",
      "source": [
        "# Print the response text for debugging or confirmation\n",
        "print(response.text)"
      ],
      "metadata": {
        "colab": {
          "base_uri": "https://localhost:8080/"
        },
        "id": "219xUlJgkoyj",
        "outputId": "e0167bf9-5553-475c-9f84-15bb2246c8a2"
      },
      "execution_count": 58,
      "outputs": [
        {
          "output_type": "stream",
          "name": "stdout",
          "text": [
            "```csv\n",
            "Datum;Berater*in;Beratung\n",
            "300724;DV;Die ratsuchende Person hat zugestimmt, dass ihre Daten gespeichert und verarbeitet werden dürfen (Uhrzeit)\n",
            "```\n",
            "\n"
          ]
        }
      ]
    },
    {
      "cell_type": "markdown",
      "source": [
        "## Persönliche Daten Ratsuchend*er (RS*)"
      ],
      "metadata": {
        "id": "-mM3TmNtuO8y"
      }
    },
    {
      "cell_type": "code",
      "source": [
        "# IMPORTANT: The extraction of the information for \"Geschlecht:\" seems to be difficult.\n",
        "# Prompt for extracting specific data from the PDF\n",
        "prompt = \"\"\"\n",
        "Extract the following information from the attached PDF and return it as CSV:\n",
        "Extract the content of the fields that are marked with a checked checkbox (✔ or ☑) between 'Person mit ausl. Abschl. selbst' and 'soziales Umfeld';\n",
        "Name:;\n",
        "Vorname:;\n",
        "E-Mail:;\n",
        "Telefonnummer:;\n",
        "Extract the content of the fields that are marked with a checked checkbox (✔ or ☑) next to the heading \"Geschlecht:\". The options are 'm', 'w', 'divers', and 'keine Angabe';\n",
        "Extract the content of the fields that are marked with a checked checkbox (✔ or ☑) next to the heading \"Wohnsitz in Deutschland?\". The options are 'ja, in (Wohnort):' and 'nein, in (Land)';\n",
        "If the option 'ja, in (Wohnort):' is marked, extract the content of the field next to it. If the option 'nein, in (Land)' is marked, extract the content of the field next to it.;\n",
        "Einreisejahr:;\n",
        "Geburtsjahr:;\n",
        "Geburtsland:;\n",
        "Nationalität 1:;\n",
        "ggf. Nationalität 2.\n",
        "\n",
        "Output only the marked text. Format the output as CSV with the headers:\n",
        "Wer nimmt die Beratung wahr?;\n",
        "Name;\n",
        "Vorname;\n",
        "E-Mail;\n",
        "Telefonnummer;\n",
        "Geschlecht;\n",
        "Wohnsitz in Deutschland?;\n",
        "Wohnsitz;\n",
        "Einreisejahr;\n",
        "Geburtsjahr;\n",
        "Geburtsland;\n",
        "Nationalität 1;\n",
        "ggf. Nationalität 2.\n",
        "\n",
        "Use semicolons as separators. If a piece of information is missing, leave the field blank. Only extract the dataset in the CSV format. Do not include any additional information, explanations, or text.\"\"\""
      ],
      "metadata": {
        "id": "GDa6ez1Or3KG"
      },
      "execution_count": 66,
      "outputs": []
    },
    {
      "cell_type": "code",
      "source": [
        "# Send the PDF and prompt to Google GenAI for content generation\n",
        "response = client.models.generate_content(\n",
        "  model=\"gemini-1.5-flash\",\n",
        "  contents=[\n",
        "      types.Part.from_bytes(\n",
        "        data=filepath.read_bytes(),\n",
        "        mime_type='application/pdf',\n",
        "      ),\n",
        "      prompt])"
      ],
      "metadata": {
        "id": "-3kUcaRCslP-"
      },
      "execution_count": 67,
      "outputs": []
    },
    {
      "cell_type": "code",
      "source": [
        "# Print the response text for debugging or confirmation\n",
        "print(response.text)"
      ],
      "metadata": {
        "colab": {
          "base_uri": "https://localhost:8080/"
        },
        "id": "w0ACAWLospzD",
        "outputId": "ef32d3ef-9cdc-4375-eabb-c8ebf918bbef"
      },
      "execution_count": 68,
      "outputs": [
        {
          "output_type": "stream",
          "name": "stdout",
          "text": [
            "Wer nimmt die Beratung wahr?;Name;Vorname;E-Mail;Telefonnummer;Geschlecht;Wohnsitz in Deutschland?;Wohnsitz;Einreisejahr;Geburtsjahr;Geburtsland;Nationalität 1;ggf. Nationalität 2\n",
            "Person mit ausl. Abschl. selbst;Mustermann;Max;arielaw9@gmail.com;016093455298;m;ja, in (Wohnort):;Frankfurt;2023;1963;Israel;israelisch;\n",
            "\n",
            "\n"
          ]
        }
      ]
    },
    {
      "cell_type": "markdown",
      "source": [
        "## Berufliche Situation und Aufenthaltsstatus"
      ],
      "metadata": {
        "id": "elR-miCHu3N5"
      }
    },
    {
      "cell_type": "code",
      "source": [
        "# IMPORTANT: Each field extraction must be provided with the addition \"If the checkbox is not checked, leave the field blank.\".\n",
        "# Prompt for extracting specific data from the PDF\n",
        "prompt = \"\"\"\n",
        "Extract the following information from the attached PDF and return it as CSV:\n",
        "Extract the content of the fields that are marked with a checked checkbox (✔ or ☑) next to the heading \"Ist der/die RS erwerbstätig\". The options are 'ja, im Ausland', 'nein', 'keine Angabe', 'ja, in Deutschland' and 'nein, jedoch im Aus-/Weiterbildung/Qualifizierung';\n",
        "Extract the content of the fields that are marked with a checked checkbox (✔ or ☑) next to the heading \"Art der Erwerbstätigkeit\". The options are 'beitragspflichtig beschäftigt', 'geringfügig beschäftigt' and 'selbstständig'. If the checkbox is not checked, leave the field blank.\n",
        "\n",
        "Output only the marked text. Format the output as CSV with the headers:\n",
        "Ist der/die RS erwerbstätig;\n",
        "Art der Erwerbstätigkeit.\n",
        "\n",
        "Use semicolons as separators. If a piece of information is missing, leave the field blank. Only extract the dataset in the CSV format. Do not include any additional information, explanations, or text.\"\"\""
      ],
      "metadata": {
        "id": "hzh6QwGsukku"
      },
      "execution_count": 72,
      "outputs": []
    },
    {
      "cell_type": "code",
      "source": [
        "# Send the PDF and prompt to Google GenAI for content generation\n",
        "response = client.models.generate_content(\n",
        "  model=\"gemini-1.5-flash\",\n",
        "  contents=[\n",
        "      types.Part.from_bytes(\n",
        "        data=filepath.read_bytes(),\n",
        "        mime_type='application/pdf',\n",
        "      ),\n",
        "      prompt])"
      ],
      "metadata": {
        "id": "OAgwO2UVuk2z"
      },
      "execution_count": 73,
      "outputs": []
    },
    {
      "cell_type": "code",
      "source": [
        "# Print the response text for debugging or confirmation\n",
        "print(response.text)"
      ],
      "metadata": {
        "colab": {
          "base_uri": "https://localhost:8080/"
        },
        "id": "guA7Xv1Guk5C",
        "outputId": "3dfdc4e0-9af3-4a9a-b9ce-975d555f17ff"
      },
      "execution_count": 74,
      "outputs": [
        {
          "output_type": "stream",
          "name": "stdout",
          "text": [
            "```csv\n",
            "Ist der/die RS erwerbstätig;Art der Erwerbstätigkeit\n",
            "nein;\n",
            "```\n",
            "\n"
          ]
        }
      ]
    },
    {
      "cell_type": "markdown",
      "source": [
        "## Bezug & Status"
      ],
      "metadata": {
        "id": "yGn-iemb0p6_"
      }
    },
    {
      "cell_type": "code",
      "source": [
        "# IMPORTANT: Each field extraction must be provided with the addition \"If the checkbox is not checked, leave the field blank.\".\n",
        "# Prompt for extracting specific data from the PDF\n",
        "prompt = \"\"\"\n",
        "Extract the following information from the attached PDF and return it as CSV:\n",
        "Extract the content of the fields that are marked with a checked checkbox. But only between he following options: 'ohne Leistungsbezug', 'ohne Leistungsbezug, jedoch arbeitssuchend gemeldet', 'mit (ergänzendem) SGB II-Leistungsbezug', 'mit SGB III-Leistungsbezug', 'mit SGB III- und SGB II-Leistungsbezug', 'mit (ergänzendem) Asylbewerberleistungsbezug' and 'keine Angabe'. If the checkbox is not checked, leave the field blank.;\n",
        "Extract the content of the fields that are marked with a checked checkbox.\n",
        "But only between he following options:\n",
        "'Aufenthaltserlaubnis zur Arbeitsplatzsuche (§20 AufenthG)',\n",
        "'Aufenthaltserlaubnis für in anderen Mitgliedsstaaten der Europäischen Unionlangfristig Aufenthaltsberechtigte (§38a AufenthG)',\n",
        "'Aufenthaltsgestattung (§55 Abs. 1 AsylVfG)',\n",
        "'Aufenthalt aus familiären Gründen (§27-36 AufenthG)',\n",
        "'Aufenthalt aus völkerrechtlichen, humanitären oder politischen Gründen(22-26, 104a, 104b AufenthG)',\n",
        "'Aufenthalt zum Zweck der Ausbildung (§16a und 17 AufenthG)',\n",
        "'Aufenthalt zum Zweck der Erwerbstätigkeit (§18, 18a, 20, 21 AufenthG)',\n",
        "'Aufenthalt zum Zweck einer Anpassungsqualifizierung oder einer Kenntnisprüfung16d AufenthG)',\n",
        "'Blaue Karte EU (§18b, Abs. 2 AufenthG)',\n",
        "'Duldung (§60a, 60b, 60c, 60d AufenthG)',\n",
        "'Niederlassungserlaubnis (§9 AufenthG)',\n",
        "'Staatsbürger-/in EU/EWR/Schweiz oder Freizügigkeit 2-5, §§12-13, §15 FreizügG/EU, §28 AufenthV)☐Visum (§6 AufenthG)' and\n",
        "'kein Aufenthaltstitel, da Wohnsitz im Ausland'\n",
        "If the checkbox is not checked, leave the field blank.\n",
        "\n",
        "Output only the marked text. Format the output as CSV with the headers:\n",
        "Leistungsbezug;\n",
        "Art der Erwerbstätigkeit.\n",
        "\n",
        "Use semicolons as separators. If a piece of information is missing, leave the field blank. Only extract the dataset in the CSV format. Do not include any additional information, explanations, or text.\"\"\""
      ],
      "metadata": {
        "id": "72oT7qZ00qmb"
      },
      "execution_count": 92,
      "outputs": []
    },
    {
      "cell_type": "code",
      "source": [
        "# Send the PDF and prompt to Google GenAI for content generation\n",
        "response = client.models.generate_content(\n",
        "  model=\"gemini-1.5-flash\",\n",
        "  contents=[\n",
        "      types.Part.from_bytes(\n",
        "        data=filepath.read_bytes(),\n",
        "        mime_type='application/pdf',\n",
        "      ),\n",
        "      prompt])"
      ],
      "metadata": {
        "id": "0tyU38nm0qvI"
      },
      "execution_count": 96,
      "outputs": []
    },
    {
      "cell_type": "code",
      "source": [
        "# Print the response text for debugging or confirmation\n",
        "print(response.text)"
      ],
      "metadata": {
        "colab": {
          "base_uri": "https://localhost:8080/"
        },
        "id": "oViiP-x_0q8c",
        "outputId": "37adb698-f45c-48dd-8629-9497aa065d84"
      },
      "execution_count": 97,
      "outputs": [
        {
          "output_type": "stream",
          "name": "stdout",
          "text": [
            "```csv\n",
            "Leistungsbezug;Art der Erwerbstätigkeit\n",
            ";beitragspflichtig beschäftigt\n",
            "```\n",
            "\n"
          ]
        }
      ]
    },
    {
      "cell_type": "code",
      "source": [
        "# Define the output CSV filename\n",
        "filename = \"/content/EIGENE_DATEIEN/DATA.csv\""
      ],
      "metadata": {
        "id": "HEFugg5jkrCo"
      },
      "execution_count": 9,
      "outputs": []
    },
    {
      "cell_type": "code",
      "source": [
        "import fitz\n",
        "\n",
        "def extract_checked_checkboxes(pdf_path):\n",
        "    doc = fitz.open(pdf_path)\n",
        "    for page in doc:\n",
        "        for widget in page.widgets():  # Alle interaktiven Felder durchgehen\n",
        "            if widget.field_type == 2:  # 2 = Checkbox\n",
        "                value = widget.field_value  # Wert der Checkbox abrufen\n",
        "                if value == \"On\":  # Nur Checkboxen mit \"On\" ausgeben\n",
        "                    print(f\"Feldname: '{widget.field_name}' | Wert: '{value}'\")\n",
        "\n",
        "pdf_path = \"/content/EIGENE_DATEIEN/TO_LOAD.pdf\"\n",
        "extract_checked_checkboxes(pdf_path)"
      ],
      "metadata": {
        "id": "9a1X2KNd-jcp",
        "outputId": "a32c44cf-3cad-4287-eecb-7900301642d5",
        "colab": {
          "base_uri": "https://localhost:8080/"
        }
      },
      "execution_count": 115,
      "outputs": [
        {
          "output_type": "stream",
          "name": "stdout",
          "text": [
            "Feldname: 'Telefonberatung' | Wert: 'On'\n",
            "Feldname: 'schriftliche Einwilligungserklärung liegt vor' | Wert: 'On'\n"
          ]
        }
      ]
    }
  ],
  "metadata": {
    "colab": {
      "name": "Willkommen bei Colaboratory",
      "provenance": [],
      "include_colab_link": true
    },
    "kernelspec": {
      "display_name": "Python 3",
      "name": "python3"
    }
  },
  "nbformat": 4,
  "nbformat_minor": 0
}