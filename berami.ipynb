{
  "cells": [
    {
      "cell_type": "markdown",
      "metadata": {
        "id": "view-in-github",
        "colab_type": "text"
      },
      "source": [
        "<a href=\"https://colab.research.google.com/github/gianca1990/pdf_extraction/blob/main/berami.ipynb\" target=\"_parent\"><img src=\"https://colab.research.google.com/assets/colab-badge.svg\" alt=\"Open In Colab\"/></a>"
      ]
    },
    {
      "cell_type": "code",
      "source": [
        "!pip install pymupdf\n",
        "import fitz\n",
        "import json\n",
        "import pandas as pd"
      ],
      "metadata": {
        "id": "NvPcJo2zjUyf",
        "outputId": "542eaeba-e97e-4fa6-f0df-8018e1c49024",
        "colab": {
          "base_uri": "https://localhost:8080/"
        }
      },
      "execution_count": 10,
      "outputs": [
        {
          "output_type": "stream",
          "name": "stdout",
          "text": [
            "Requirement already satisfied: pymupdf in /usr/local/lib/python3.11/dist-packages (1.26.0)\n"
          ]
        }
      ]
    },
    {
      "cell_type": "code",
      "source": [
        "def extract_form_fields(pdf_path):\n",
        "    \"\"\"\n",
        "    Extrahiert alle Formularfelder (Checkboxen und Textfelder) aus einem PDF.\n",
        "    Gibt eine JSON-Ausgabe mit den Namen und Werten der Felder zurück.\n",
        "    \"\"\"\n",
        "    doc = fitz.open(pdf_path)\n",
        "    form_data = []\n",
        "\n",
        "    for page in doc:\n",
        "        for widget in page.widgets():  # Alle Formularfelder auf der Seite durchgehen\n",
        "            field_name = widget.field_name  # Name des Feldes\n",
        "            field_value = widget.field_value  # Wert des Feldes\n",
        "\n",
        "            # Überprüfen, welcher Feldtyp vorliegt\n",
        "            if widget.field_type == 2:  # 2 = Checkbox\n",
        "                field_type = \"Checkbox\"\n",
        "                field_value = \"On\" if field_value == \"On\" else \"Off\"\n",
        "            elif widget.field_type == 7:  # 1 = Textfeld (Inputfeld)\n",
        "                field_type = \"Text Input\"\n",
        "            else:\n",
        "                field_type = \"Unknown\"  # Für andere unbekannte Feldtypen\n",
        "\n",
        "            # Formularfeld in die Liste einfügen\n",
        "            form_data.append({\n",
        "                \"name\": field_name,\n",
        "                \"type\": field_type,\n",
        "                \"value\": field_value if field_value else \"No value\"\n",
        "            })\n",
        "\n",
        "    # JSON-Ausgabe erstellen\n",
        "    json_output = json.dumps({\"form_fields\": form_data}, indent=4)\n",
        "    return json_output"
      ],
      "metadata": {
        "id": "hLT0lrGRFiJU"
      },
      "execution_count": 2,
      "outputs": []
    },
    {
      "cell_type": "code",
      "source": [
        "import json\n",
        "import pandas as pd\n",
        "\n",
        "# Beispiel: json_output ist das Ergebnis von extract_form_fields()\n",
        "json_output = extract_form_fields(\"/content/24.0730_IQ_AB_Frau_Wuhl_DV.pdf\")  # PDF-Pfad\n",
        "form_data_dict = json.loads(json_output)"
      ],
      "metadata": {
        "id": "9eOaaAPtw6CD"
      },
      "execution_count": 23,
      "outputs": []
    },
    {
      "cell_type": "code",
      "source": [
        "# Hilfsfunktion zur Extraktion eines bestimmten Feldwertes\n",
        "def get_field_value(fields, field_name):\n",
        "    for field in fields:\n",
        "        if field['name'] == field_name:\n",
        "            return field['value']\n",
        "    return None\n",
        "\n",
        "# Erstellt den DataFrame für \"berater\"\n",
        "berater = pd.DataFrame([{\n",
        "    \"ID\": None,\n",
        "    \"NAME BERATER*IN\": get_field_value(form_data_dict[\"form_fields\"], \"NAME BERATER*IN\")\n",
        "}])\n",
        "\n",
        "print(berater)"
      ],
      "metadata": {
        "id": "qOocT1ZUx4r6",
        "outputId": "5aa8dd96-2682-43bc-f8c8-416b1b2f4a6b",
        "colab": {
          "base_uri": "https://localhost:8080/"
        }
      },
      "execution_count": 19,
      "outputs": [
        {
          "output_type": "stream",
          "name": "stdout",
          "text": [
            "     ID NAME BERATER*IN\n",
            "0  None              DV\n"
          ]
        }
      ]
    },
    {
      "cell_type": "code",
      "source": [
        "import json\n",
        "import pandas as pd\n",
        "\n",
        "# Beispiel: JSON bereits als Dictionary geladen\n",
        "# json_output = extract_form_fields(\"pfad_zur_pdf.pdf\")\n",
        "form_data_dict = json.loads(json_output)\n",
        "fields = form_data_dict[\"form_fields\"]\n",
        "\n",
        "# Hilfsfunktionen\n",
        "def get_value(fields, name):\n",
        "    for f in fields:\n",
        "        if f[\"name\"] == name:\n",
        "            return f[\"value\"]\n",
        "    return None\n",
        "\n",
        "def get_checkbox_name_if_on(fields, name):\n",
        "    return name if get_value(fields, name) == \"On\" else None\n",
        "\n",
        "def get_on_checkboxes(fields, relevant_names):\n",
        "    return [f[\"name\"] for f in fields if f[\"name\"] in relevant_names and f[\"value\"] == \"On\"]\n",
        "\n",
        "def get_anrede(fields):\n",
        "    if get_value(fields, \"weiblich\") == \"On\":\n",
        "        return \"Frau\"\n",
        "    elif get_value(fields, \"männlich\") == \"On\":\n",
        "        return \"Herr\"\n",
        "    elif get_value(fields, \"divers\") == \"On\":\n",
        "        return \"Divers\"\n",
        "    elif get_value(fields, \"keine Angabe zum Geschlecht\") == \"On\":\n",
        "        return \"Keine Angabe\"\n",
        "    return \"Unbekannt\"\n",
        "\n",
        "def get_ort(fields):\n",
        "    if get_value(fields, \"Wohnsitz in Deutschland\") == \"On\":\n",
        "        return get_value(fields, \"Wohnort RS in Deutschland\")\n",
        "    elif get_value(fields, \"Wohnsitz außerhalb Deutschlands\") == \"On\":\n",
        "        return get_value(fields, \"Land des aktuellen Wohnsitzes RS, wenn nicht Deutschland\")\n",
        "    return None\n",
        "\n",
        "def get_wer_wird_beraten(fields):\n",
        "    if get_value(fields, \"RS selbst\") == \"On\":\n",
        "        return \"RS selbst\"\n",
        "    elif get_value(fields, \"soziales Umfeld\") == \"On\":\n",
        "        return \"soziales Umfeld\"\n",
        "    return \"Keine Angabe\"\n",
        "\n",
        "# Zugangswege zur Beratung (nur relevante, die \"On\" sind)\n",
        "zugangswege_felder = [\n",
        "    \"Agentur für Arbeit oder Jobcenter\",\n",
        "    \"Arbeitgeber (Unternehmen)\",\n",
        "    \"Ausländerbehörde\",\n",
        "    \"Bildungsdienstleister\",\n",
        "    \"Ehrenamtliche Unterstützung\",\n",
        "    \"eigene Öffentlichkeitsarbeit zB Projektwebseite Flyer Infoveranstaltung\",\n",
        "    \"IQ interner Verweis\",\n",
        "    \"IQ externe Öffentlichkeitsarbeit Internet Presse Anerkennungsportal BIBB Social\",\n",
        "    \"persönliche Empfehlung\",\n",
        "    \"Zentrale Servicestelle Berufsanerkennung ZSBA in Bonn\"\n",
        "]\n",
        "\n",
        "# DataFrame erstellen\n",
        "kunde = pd.DataFrame([{\n",
        "    \"ID\": None,\n",
        "    \"Anrede\": get_anrede(fields),\n",
        "    \"Titel\": get_value(fields, \"TITEL Abschluss 1 bzw. REFERENZBERUF 1\"),\n",
        "    \"Nachname\": get_value(fields, \"Name RS\"),\n",
        "    \"Vorname\": get_value(fields, \"Vorname RS\"),\n",
        "    \"Strasse Hausnummer\": None,\n",
        "    \"PLZ\": None,\n",
        "    \"Ort\": get_ort(fields),\n",
        "    \"Telefonnummer RS\": get_value(fields, \"Telefonnummer RS\"),\n",
        "    \"E-Mail\": get_value(fields, \"E-Mail RS\"),\n",
        "    \"Wer wird beraten\": get_wer_wird_beraten(fields),\n",
        "    \"Geburtsdatum\": get_value(fields, \"Geburtsjahr\"),\n",
        "    \"Geburtsland\": get_value(fields, \"Geburtsland RS\"),\n",
        "    \"Einreisejahr\": get_value(fields, \"Einreisejahr\"),\n",
        "    \"Lebt im Ausland\": get_value(fields, \"Wohnsitz außerhalb Deutschlands\"),\n",
        "    \"Staatsangehörigkeit 1\": get_value(fields, \"Staatsangehörigkeit 1\"),\n",
        "    \"Staatsangehörigkeit 2\": get_value(fields, \"Staatsangehörigkeit 2\"),\n",
        "    \"Zugangswege zur Beratung\": \", \".join(get_on_checkboxes(fields, zugangswege_felder)),\n",
        "    \"Datum der Beratung\": get_value(fields, \"DATUM der Beratung\"),\n",
        "    \"Kontaktaufnahme erlaubt\": get_value(fields, \"telefonische Beratung\"),\n",
        "    \"schriftliche Einwilligungserklärung\": get_value(fields, \"schriftliche Einwilligungserklärung liegt vor\")\n",
        "}])\n",
        "\n",
        "# Ausgabe prüfen\n",
        "print(kunde)"
      ],
      "metadata": {
        "id": "Ra3ZbrTu0WJw",
        "outputId": "364ef86a-95ca-488a-9837-0a32efcd6358",
        "colab": {
          "base_uri": "https://localhost:8080/"
        }
      },
      "execution_count": 20,
      "outputs": [
        {
          "output_type": "stream",
          "name": "stdout",
          "text": [
            "     ID Anrede                                              Titel Nachname  \\\n",
            "0  None   Frau  Lehramt + Bachelor in Education+ Master in Edu...     Wuhl   \n",
            "\n",
            "  Vorname Strasse Hausnummer   PLZ        Ort Telefonnummer RS  \\\n",
            "0  Ariela               None  None  Frankfurt     016093455298   \n",
            "\n",
            "               E-Mail  ... Geburtsdatum Geburtsland Einreisejahr  \\\n",
            "0  arielaw9@gmail.com  ...         1963      Israel         2023   \n",
            "\n",
            "  Lebt im Ausland Staatsangehörigkeit 1 Staatsangehörigkeit 2  \\\n",
            "0             Off            israelisch              No value   \n",
            "\n",
            "            Zugangswege zur Beratung Datum der Beratung  \\\n",
            "0  Agentur für Arbeit oder Jobcenter           30.07.24   \n",
            "\n",
            "  Kontaktaufnahme erlaubt schriftliche Einwilligungserklärung  \n",
            "0                      On                                 Off  \n",
            "\n",
            "[1 rows x 21 columns]\n"
          ]
        }
      ]
    },
    {
      "cell_type": "code",
      "source": [
        "import pandas as pd\n",
        "import json\n",
        "\n",
        "# Beispiel: JSON bereits geladen\n",
        "# json_output = extract_form_fields(\"pfad_zur_pdf.pdf\")\n",
        "form_data_dict = json.loads(json_output)\n",
        "fields = form_data_dict[\"form_fields\"]\n",
        "\n",
        "# Hilfsfunktionen\n",
        "def get_value(fields, name):\n",
        "    for f in fields:\n",
        "        if f[\"name\"] == name:\n",
        "            return f[\"value\"]\n",
        "    return None\n",
        "\n",
        "def get_on_values(fields, name_list):\n",
        "    return [f[\"name\"] for f in fields if f[\"name\"] in name_list and f[\"value\"] == \"On\"]\n",
        "\n",
        "# Gruppierungen\n",
        "erwerbsstatus_felder = [\n",
        "    \"beitragspflichtig beschäftigt\",\n",
        "    \"geringfügig beschäftigt (Mini-Job)\",\n",
        "    \"selbstständig\"\n",
        "]\n",
        "\n",
        "erwerbstaetigkeit_felder = [\n",
        "    \"Erwerbstätigkeit im Ausland\",\n",
        "    \"Erwerbstätigkeit in Deutschland\",\n",
        "    \"keine Erwerbstätigkeit\",\n",
        "    \"Keine Erwerbstätigkeit, jedoch in Aus Weiterbildung\",\n",
        "    \"keine Angabe zur Erwerbstätigkeit\"\n",
        "]\n",
        "\n",
        "leistungsbezug_felder = [\n",
        "    \"ohne Leistungsbezug\",\n",
        "    \"ohne Leistungsbezug jedoch arbeitssuchend gemeldet\",\n",
        "    \"mit ergänzendem SGB IILeistungsbezug\",\n",
        "    \"mit SGB IIILeistungsbezug\",\n",
        "    \"mit SGB IIIund SGB IILeistungsbezug\",\n",
        "    \"mit ergänzendem Asylbewerberleistungsbezug\",\n",
        "    \"keine Angabe Leistungsbezug\"\n",
        "]\n",
        "\n",
        "aufenthaltstitel_felder = [\n",
        "    \"Aufenthaltserlaubnis zur Arbeitsplatzsuche 20 AufenthG\",\n",
        "    \"Aufenthaltserlaubnis für in anderen Mitgliedsstaaten der Europäischen Union\",\n",
        "    \"Aufenthaltsgestattung 55 Abs 1 AsylVfG\",\n",
        "    \"Aufenthalt aus familiären Gründen 2736 AufenthG\",\n",
        "    \"Aufenthalt aus völkerrechtlichen humanitären oder politischen Gründen 2226\",\n",
        "    \"Aufenthalt zum Zweck der Ausbildung 16a und 17 AufenthG\",\n",
        "    \"Aufenthalt zum Zweck der Erwerbstätigkeit 18 18a 20 21 AufenthG\",\n",
        "    \"Aufenthalt zum Zweck einer Anpassungsqualifizierung oder einer Kenntnisprüfung\",\n",
        "    \"Blaue Karte EU 18b Abs 2 AufenthG\",\n",
        "    \"Duldung 60a 60b 60c 60d AufenthG\",\n",
        "    \"Niederlassungserlaubnis 9 AufenthG\",\n",
        "    \"Staatsbürgerin EUEWRSchweiz oder Freizügigkeit 25 1213 15 FreizügGEU 28\",\n",
        "    \"Visum 6 AufenthG\",\n",
        "    \"kein Aufenthaltstitel da Wohnsitz im Ausland\",\n",
        "    \"keine Angabe Aufenthaltstatus\"\n",
        "]\n",
        "\n",
        "# DataFrame erzeugen\n",
        "erwerbsstatus_und_aufenthaltstatus = pd.DataFrame([{\n",
        "    \"ID\": None,\n",
        "    \"Erwerbsstatus\": \", \".join(get_on_values(fields, erwerbsstatus_felder)),\n",
        "    \"erwerbstätig?\": \", \".join(get_on_values(fields, erwerbstaetigkeit_felder)),\n",
        "    \"Leistungsbezug\": \", \".join(get_on_values(fields, leistungsbezug_felder)),\n",
        "    \"Aufenthaltstitel\": \", \".join(get_on_values(fields, aufenthaltstitel_felder)),\n",
        "    \"Eingabedatum\": get_value(fields, \"DATUM der Beratung\")\n",
        "}])\n",
        "\n",
        "# Ausgabe prüfen\n",
        "print(erwerbsstatus_und_aufenthaltstatus)"
      ],
      "metadata": {
        "id": "vuDj9aVE2CZH",
        "outputId": "8e7a6193-449e-4557-e6d4-6ebfc37af2f1",
        "colab": {
          "base_uri": "https://localhost:8080/"
        }
      },
      "execution_count": 21,
      "outputs": [
        {
          "output_type": "stream",
          "name": "stdout",
          "text": [
            "     ID                  Erwerbsstatus           erwerbstätig?  \\\n",
            "0  None  beitragspflichtig beschäftigt  keine Erwerbstätigkeit   \n",
            "\n",
            "        Leistungsbezug                                 Aufenthaltstitel  \\\n",
            "0  ohne Leistungsbezug  Aufenthalt aus familiären Gründen 2736 AufenthG   \n",
            "\n",
            "  Eingabedatum  \n",
            "0     30.07.24  \n"
          ]
        }
      ]
    },
    {
      "cell_type": "code",
      "source": [
        "import pandas as pd\n",
        "import json\n",
        "\n",
        "# Angenommen: form_data_dict = json.loads(json_output)\n",
        "fields = form_data_dict[\"form_fields\"]\n",
        "\n",
        "# Hilfsfunktionen\n",
        "def get_on_values(fields, name_list):\n",
        "    return [f[\"name\"] for f in fields if f[\"name\"] in name_list and f[\"value\"] == \"On\"]\n",
        "\n",
        "# Gruppenbezeichner\n",
        "deutschkenntnisse_felder = [\n",
        "    \"Deutsch als MUTTERSPRACHE\",\n",
        "    \"Deutsch als FREMDSPRACHE\",\n",
        "    \"KEINE DEUTSCHKENNTNISSE\",\n",
        "    \"KEINE ANGABE Deutschkenntnisse\"\n",
        "]\n",
        "\n",
        "zertifikat_felder = [\n",
        "    \"Sprachniveau zertifiziert A1\",\n",
        "    \"Sprachniveau zertifiziert A2\",\n",
        "    \"Sprachniveau zertifiziert B1\",\n",
        "    \"Sprachniveau zertifiziert B2\",\n",
        "    \"Sprachniveau zertifiziert C1\",\n",
        "    \"Sprachniveau zertifiziert C2\",\n",
        "    \"keine Angabe zum Niveau des Sprachzertifikats\"\n",
        "]\n",
        "\n",
        "# DataFrame erzeugen\n",
        "deutschkenntnisse = pd.DataFrame([{\n",
        "    \"ID\": None,\n",
        "    \"Deutschkenntnisse\": \", \".join(get_on_values(fields, deutschkenntnisse_felder)),\n",
        "    \"Zertifikat Sprachniveau\": \", \".join(get_on_values(fields, zertifikat_felder)),\n",
        "    \"Gespräch auf\": None\n",
        "}])\n",
        "\n",
        "# Ausgabe prüfen\n",
        "print(deutschkenntnisse)\n"
      ],
      "metadata": {
        "id": "wuOgwUpT3HfR",
        "outputId": "e62f013e-fc2e-44dc-c285-b973f074ef7b",
        "colab": {
          "base_uri": "https://localhost:8080/"
        }
      },
      "execution_count": 25,
      "outputs": [
        {
          "output_type": "stream",
          "name": "stdout",
          "text": [
            "     ID         Deutschkenntnisse       Zertifikat Sprachniveau Gespräch auf\n",
            "0  None  Deutsch als FREMDSPRACHE  Sprachniveau zertifiziert A1         None\n"
          ]
        }
      ]
    }
  ],
  "metadata": {
    "colab": {
      "name": "Willkommen bei Colaboratory",
      "provenance": [],
      "include_colab_link": true
    },
    "kernelspec": {
      "display_name": "Python 3",
      "name": "python3"
    }
  },
  "nbformat": 4,
  "nbformat_minor": 0
}