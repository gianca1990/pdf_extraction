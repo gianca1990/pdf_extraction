{
  "cells": [
    {
      "cell_type": "markdown",
      "metadata": {
        "id": "view-in-github",
        "colab_type": "text"
      },
      "source": [
        "<a href=\"https://colab.research.google.com/github/gianca1990/pdf_extraction/blob/main/berami.ipynb\" target=\"_parent\"><img src=\"https://colab.research.google.com/assets/colab-badge.svg\" alt=\"Open In Colab\"/></a>"
      ]
    },
    {
      "cell_type": "code",
      "source": [
        "from google import genai\n",
        "from google.genai import types\n",
        "import pathlib\n",
        "import httpx\n",
        "import csv\n",
        "!pip install pymupdf\n",
        "import fitz\n",
        "import json"
      ],
      "metadata": {
        "id": "NvPcJo2zjUyf",
        "outputId": "0c494794-f1ee-4bc7-905e-de8f1b4ffddf",
        "colab": {
          "base_uri": "https://localhost:8080/"
        }
      },
      "execution_count": 25,
      "outputs": [
        {
          "output_type": "stream",
          "name": "stdout",
          "text": [
            "Requirement already satisfied: pymupdf in /usr/local/lib/python3.11/dist-packages (1.25.3)\n"
          ]
        }
      ]
    },
    {
      "cell_type": "code",
      "source": [
        "# Initialize the Google GenAI client with the provided API key\n",
        "client = genai.Client(api_key=\"\")"
      ],
      "metadata": {
        "id": "heZ7qCvajiBo"
      },
      "execution_count": 2,
      "outputs": []
    },
    {
      "cell_type": "code",
      "source": [
        "# Filepath to the local PDF file\n",
        "filepath = pathlib.Path(\"/TO_LOAD.pdf\")"
      ],
      "metadata": {
        "id": "_zMgatIQjj6D"
      },
      "execution_count": 33,
      "outputs": []
    },
    {
      "cell_type": "code",
      "source": [
        "# Read the PDF file as bytes\n",
        "pdf_bytes = filepath.read_bytes()"
      ],
      "metadata": {
        "id": "678Eh8GlkTEU"
      },
      "execution_count": 34,
      "outputs": []
    },
    {
      "cell_type": "code",
      "source": [
        "def extract_checked_checkboxes(pdf_path):\n",
        "\n",
        "    doc = fitz.open(pdf_path)\n",
        "    checkboxes = []\n",
        "\n",
        "    for page in doc:\n",
        "        for widget in page.widgets():\n",
        "            if widget.field_type == 2 and widget.field_value == \"On\":\n",
        "                checkboxes.append({\"name\": widget.field_name, \"state\": widget.field_value})\n",
        "\n",
        "    prompt_data = {\n",
        "        \"checkboxes\": checkboxes\n",
        "    }\n",
        "\n",
        "    return json.dumps(prompt_data, indent=4)"
      ],
      "metadata": {
        "id": "aS0mHpvI2t-b"
      },
      "execution_count": 35,
      "outputs": []
    },
    {
      "cell_type": "code",
      "source": [
        "pdf_path = \"/TO_LOAD.pdf\"\n",
        "extract_checked_checkboxes(pdf_path)"
      ],
      "metadata": {
        "id": "nwHgVwla2xlv",
        "outputId": "d2ce4014-d4fe-401e-e3e4-1ab566793da2",
        "colab": {
          "base_uri": "https://localhost:8080/",
          "height": 104
        }
      },
      "execution_count": 57,
      "outputs": [
        {
          "output_type": "execute_result",
          "data": {
            "text/plain": [
              "'{\\n    \"checkboxes\": [\\n        {\\n            \"name\": \"m\\\\u00e4nnlich\",\\n            \"state\": \"On\"\\n        },\\n        {\\n            \"name\": \"Wohnsitz in Deutschland\",\\n            \"state\": \"On\"\\n        },\\n        {\\n            \"name\": \"RS selbst\",\\n            \"state\": \"On\"\\n        },\\n        {\\n            \"name\": \"soziales Umfeld\",\\n            \"state\": \"On\"\\n        },\\n        {\\n            \"name\": \"weiblich\",\\n            \"state\": \"On\"\\n        },\\n        {\\n            \"name\": \"Wohnsitz au\\\\u00dferhalb Deutschlands\",\\n            \"state\": \"On\"\\n        },\\n        {\\n            \"name\": \"divers\",\\n            \"state\": \"On\"\\n        },\\n        {\\n            \"name\": \"keine Angabe zum Geschlecht\",\\n            \"state\": \"On\"\\n        }\\n    ]\\n}'"
            ],
            "application/vnd.google.colaboratory.intrinsic+json": {
              "type": "string"
            }
          },
          "metadata": {},
          "execution_count": 57
        }
      ]
    },
    {
      "cell_type": "code",
      "source": [
        "def extract_form_fields(pdf_path):\n",
        "    \"\"\"\n",
        "    Extrahiert alle Formularfelder (Checkboxen und Textfelder) aus einem PDF.\n",
        "    Gibt eine JSON-Ausgabe mit den Namen und Werten der Felder zurück.\n",
        "    \"\"\"\n",
        "    doc = fitz.open(pdf_path)\n",
        "    form_data = []\n",
        "\n",
        "    for page in doc:\n",
        "        for widget in page.widgets():  # Alle Formularfelder auf der Seite durchgehen\n",
        "            field_name = widget.field_name  # Name des Feldes\n",
        "            field_value = widget.field_value  # Wert des Feldes\n",
        "\n",
        "            # Überprüfen, welcher Feldtyp vorliegt\n",
        "            if widget.field_type == 2:  # 2 = Checkbox\n",
        "                field_type = \"Checkbox\"\n",
        "                field_value = \"On\" if field_value == \"On\" else \"Off\"\n",
        "            elif widget.field_type == 7:  # 1 = Textfeld (Inputfeld)\n",
        "                field_type = \"Text Input\"\n",
        "            else:\n",
        "                field_type = \"Unknown\"  # Für andere unbekannte Feldtypen\n",
        "\n",
        "            # Formularfeld in die Liste einfügen\n",
        "            form_data.append({\n",
        "                \"name\": field_name,\n",
        "                \"type\": field_type,\n",
        "                \"value\": field_value if field_value else \"No value\"\n",
        "            })\n",
        "\n",
        "    # JSON-Ausgabe erstellen\n",
        "    json_output = json.dumps({\"form_fields\": form_data}, indent=4)\n",
        "    return json_output"
      ],
      "metadata": {
        "id": "hLT0lrGRFiJU"
      },
      "execution_count": 67,
      "outputs": []
    },
    {
      "cell_type": "code",
      "source": [
        "pdf_path = \"/TO_LOAD.pdf\"\n",
        "extract_form_fields(pdf_path)"
      ],
      "metadata": {
        "id": "cEcKAPgcFtgJ",
        "outputId": "3ce58cf3-bcfc-4416-bf42-f5aa4c253528",
        "colab": {
          "base_uri": "https://localhost:8080/",
          "height": 139
        }
      },
      "execution_count": 68,
      "outputs": [
        {
          "output_type": "execute_result",
          "data": {
            "text/plain": [
              "'{\\n    \"form_fields\": [\\n        {\\n            \"name\": \"Erwerbst\\\\u00e4tigkeit im Ausland\",\\n            \"type\": \"Checkbox\",\\n            \"value\": \"Off\"\\n        },\\n        {\\n            \"name\": \"Erwerbst\\\\u00e4tigkeit in Deutschland\",\\n            \"type\": \"Checkbox\",\\n            \"value\": \"Off\"\\n        },\\n        {\\n            \"name\": \"beitragspflichtig besch\\\\u00e4ftigt\",\\n            \"type\": \"Checkbox\",\\n            \"value\": \"Off\"\\n        },\\n        {\\n            \"name\": \"Name RS\",\\n            \"type\": \"Text Input\",\\n            \"value\": \"Mustermann\"\\n        },\\n        {\\n            \"name\": \"E-Mail RS\",\\n            \"type\": \"Text Input\",\\n            \"value\": \"arielaw9@gmail.com\"\\n        },\\n        {\\n            \"name\": \"Telefonnummer RS\",\\n            \"type\": \"Text Input\",\\n            \"value\": \"016093455298\"\\n        },\\n        {\\n            \"name\": \"Geburtsjahr\",\\n            \"type\": \"Text Input\",\\n            \"value\": \"1963\"\\n        },\\n        {\\n            \"name\": \"Telefonberatung\",\\n            \"type\": \"Checkbox\",\\n            \"value\": \"Off\"\\n        },\\n        {\\n            \"name\": \"Einreisejahr\",\\n            \"type\": \"Text Input\",\\n            \"value\": \"2023\"\\n        },\\n        {\\n            \"name\": \"Staatsangeh\\\\u00f6rigkeit 1\",\\n            \"type\": \"Text Input\",\\n            \"value\": \"israelisch\"\\n        },\\n        {\\n            \"name\": \"m\\\\u00e4nnlich\",\\n            \"type\": \"Checkbox\",\\n            \"value\": \"On\"\\n        },\\n        {\\n            \"name\": \"keine Erwerbst\\\\u00e4tigkeit\",\\n            \"type\": \"Checkbox\",\\n            \"value\": \"Off\"\\n        },\\n        {\\n            \"name\": \"Keine Erwerbst\\\\u00e4tigkeit, jedoch in Aus Weiterbildung\",\\n            \"type\": \"Checkbox\",\\n            \"value\": \"Off\"\\n        },\\n        {\\n            \"name\": \"UHRZEIT Telefonberatung\",\\n            \"type\": \"Text Input\",\\n            \"value\": \"No value\"\\n        },\\n        {\\n            \"name\": \"schriftliche Einwilligungserkl\\\\u00e4rung liegt vor\",\\n            \"type\": \"Checkbox\",\\n            \"value\": \"Off\"\\n        },\\n        {\\n            \"name\": \"Wohnsitz in Deutschland\",\\n            \"type\": \"Checkbox\",\\n            \"value\": \"On\"\\n        },\\n        {\\n            \"name\": \"Wohnort RS in Deutschland\",\\n            \"type\": \"Text Input\",\\n            \"value\": \"Frankfurt\"\\n        },\\n        {\\n            \"name\": \"RS selbst\",\\n            \"type\": \"Checkbox\",\\n            \"value\": \"On\"\\n        },\\n        {\\n            \"name\": \"soziales Umfeld\",\\n            \"type\": \"Checkbox\",\\n            \"value\": \"On\"\\n        },\\n        {\\n            \"name\": \"weiblich\",\\n            \"type\": \"Checkbox\",\\n            \"value\": \"On\"\\n        },\\n        {\\n            \"name\": \"geringf\\\\u00fcgig besch\\\\u00e4ftigt (Mini-Job)\",\\n            \"type\": \"Checkbox\",\\n            \"value\": \"Off\"\\n        },\\n        {\\n            \"name\": \"Wohnsitz au\\\\u00dferhalb Deutschlands\",\\n            \"type\": \"Checkbox\",\\n            \"value\": \"On\"\\n        },\\n        {\\n            \"name\": \"Geburtsland RS\",\\n            \"type\": \"Text Input\",\\n            \"value\": \"Israel\"\\n        },\\n        {\\n            \"name\": \"divers\",\\n            \"type\": \"Checkbox\",\\n            \"value\": \"On\"\\n        },\\n        {\\n            \"name\": \"Land des aktuellen Wohnsitzes RS, wenn nicht Deutschland\",\\n            \"type\": \"Text Input\",\\n            \"value\": \"No value\"\\n        },\\n        {\\n            \"name\": \"Staatsangeh\\\\u00f6rigkeit 2\",\\n            \"type\": \"Text Input\",\\n            \"value\": \"No value\"\\n        },\\n        {\\n            \"name\": \"keine Angabe zum Geschlecht\",\\n            \"type\": \"Checkbox\",\\n            \"value\": \"On\"\\n        },\\n        {\\n            \"name\": \"keine Angabe zur Erwerbst\\\\u00e4tigkeit\",\\n            \"type\": \"Checkbox\",\\n            \"value\": \"Off\"\\n        },\\n        {\\n            \"name\": \"selbstst\\\\u00e4ndig\",\\n            \"type\": \"Checkbox\",\\n            \"value\": \"Off\"\\n        },\\n        {\\n            \"name\": \"ohne Leistungsbezug\",\\n            \"type\": \"Checkbox\",\\n            \"value\": \"Off\"\\n        },\\n        {\\n            \"name\": \"ohne Leistungsbezug jedoch arbeitssuchend gemeldet\",\\n            \"type\": \"Checkbox\",\\n            \"value\": \"Off\"\\n        },\\n        {\\n            \"name\": \"mit erg\\\\u00e4nzendem SGB IILeistungsbezug\",\\n            \"type\": \"Checkbox\",\\n            \"value\": \"Off\"\\n        },\\n        {\\n            \"name\": \"mit SGB IIILeistungsbezug\",\\n            \"type\": \"Checkbox\",\\n            \"value\": \"Off\"\\n        },\\n        {\\n            \"name\": \"mit SGB IIIund SGB IILeistungsbezug\",\\n            \"type\": \"Checkbox\",\\n            \"value\": \"Off\"\\n        },\\n        {\\n            \"name\": \"mit erg\\\\u00e4nzendem Asylbewerberleistungsbezug\",\\n            \"type\": \"Checkbox\",\\n            \"value\": \"Off\"\\n        },\\n        {\\n            \"name\": \"keine Angabe Leistungsbezug\",\\n            \"type\": \"Checkbox\",\\n            \"value\": \"Off\"\\n        },\\n        {\\n            \"name\": \"Aufenthaltserlaubnis zur Arbeitsplatzsuche 20 AufenthG\",\\n            \"type\": \"Checkbox\",\\n            \"value\": \"Off\"\\n        },\\n        {\\n            \"name\": \"Aufenthaltserlaubnis f\\\\u00fcr in anderen Mitgliedsstaaten der Europ\\\\u00e4ischen Union\",\\n            \"type\": \"Checkbox\",\\n            \"value\": \"Off\"\\n        },\\n        {\\n            \"name\": \"Aufenthaltsgestattung 55 Abs 1 AsylVfG\",\\n            \"type\": \"Checkbox\",\\n            \"value\": \"Off\"\\n        },\\n        {\\n            \"name\": \"Aufenthalt aus famili\\\\u00e4ren Gr\\\\u00fcnden 2736 AufenthG\",\\n            \"type\": \"Checkbox\",\\n            \"value\": \"Off\"\\n        },\\n        {\\n            \"name\": \"Aufenthalt aus v\\\\u00f6lkerrechtlichen humanit\\\\u00e4ren oder politischen Gr\\\\u00fcnden 2226\",\\n            \"type\": \"Checkbox\",\\n            \"value\": \"Off\"\\n        },\\n        {\\n            \"name\": \"Aufenthalt zum Zweck der Ausbildung 16a und 17 AufenthG\",\\n            \"type\": \"Checkbox\",\\n            \"value\": \"Off\"\\n        },\\n        {\\n            \"name\": \"Aufenthalt zum Zweck der Erwerbst\\\\u00e4tigkeit 18 18a 20 21 AufenthG\",\\n            \"type\": \"Checkbox\",\\n            \"value\": \"Off\"\\n        },\\n        {\\n            \"name\": \"Aufenthalt zum Zweck einer Anpassungsqualifizierung oder einer Kenntnispr\\\\u00fcfung\",\\n            \"type\": \"Checkbox\",\\n            \"value\": \"Off\"\\n        },\\n        {\\n            \"name\": \"Blaue Karte EU 18b Abs 2 AufenthG\",\\n            \"type\": \"Checkbox\",\\n            \"value\": \"Off\"\\n        },\\n        {\\n            \"name\": \"Duldung 60a 60b 60c 60d AufenthG\",\\n            \"type\": \"Checkbox\",\\n            \"value\": \"Off\"\\n        },\\n        {\\n            \"name\": \"Niederlassungserlaubnis 9 AufenthG\",\\n            \"type\": \"Checkbox\",\\n            \"value\": \"Off\"\\n        },\\n        {\\n            \"name\": \"Staatsb\\\\u00fcrgerin EUEWRSchweiz oder Freiz\\\\u00fcgigkeit 25 1213 15 Freiz\\\\u00fcgGEU 28\",\\n            \"type\": \"Checkbox\",\\n            \"value\": \"Off\"\\n        },\\n        {\\n            \"name\": \"Visum 6 AufenthG\",\\n            \"type\": \"Checkbox\",\\n            \"value\": \"Off\"\\n        },\\n        {\\n            \"name\": \"kein Aufenthaltstitel da Wohnsitz im Ausland\",\\n            \"type\": \"Checkbox\",\\n            \"value\": \"Off\"\\n        },\\n        {\\n            \"name\": \"keine Angabe Aufenthaltstatus\",\\n            \"type\": \"Checkbox\",\\n            \"value\": \"Off\"\\n        },\\n        {\\n            \"name\": \"DATUM der Beratung\",\\n            \"type\": \"Text Input\",\\n            \"value\": \"30.07.24\"\\n        },\\n        {\\n            \"name\": \"NAME BERATER*IN\",\\n            \"type\": \"Text Input\",\\n            \"value\": \"DV\"\\n        },\\n        {\\n            \"name\": \"Vorname RS\",\\n            \"type\": \"Text Input\",\\n            \"value\": \"Max\"\\n        },\\n        {\\n            \"name\": \"Zur\\\\u00fccksetzen\",\\n            \"type\": \"Unknown\",\\n            \"value\": \"No value\"\\n        },\\n        {\\n            \"name\": \"Speichern unter\",\\n            \"type\": \"Unknown\",\\n            \"value\": \"No value\"\\n        },\\n        {\\n            \"name\": \"Deutsch als MUTTERSPRACHE\",\\n            \"type\": \"Checkbox\",\\n            \"value\": \"Off\"\\n        },\\n        {\\n            \"name\": \"JA, Framdsprachenzertifikat vorhanen\",\\n            \"type\": \"Checkbox\",\\n            \"value\": \"Off\"\\n        },\\n        {\\n            \"name\": \"Sprachniveau zertifiziert A1\",\\n            \"type\": \"Checkbox\",\\n            \"value\": \"Off\"\\n        },\\n        {\\n            \"name\": \"Sprachniveau zertifiziert A2\",\\n            \"type\": \"Checkbox\",\\n            \"value\": \"Off\"\\n        },\\n        {\\n            \"name\": \"Deutsch als FREMDSPRACHE\",\\n            \"type\": \"Checkbox\",\\n            \"value\": \"Off\"\\n        },\\n        {\\n            \"name\": \"NEIN, kein Fremdsprachenzertifikat vorhanen\",\\n            \"type\": \"Checkbox\",\\n            \"value\": \"Off\"\\n        },\\n        {\\n            \"name\": \"Sprachniveau zertifiziert B1\",\\n            \"type\": \"Checkbox\",\\n            \"value\": \"Off\"\\n        },\\n        {\\n            \"name\": \"Sprachniveau zertifiziert B2\",\\n            \"type\": \"Checkbox\",\\n            \"value\": \"Off\"\\n        },\\n        {\\n            \"name\": \"Hochschulabschluss 1\",\\n            \"type\": \"Checkbox\",\\n            \"value\": \"Off\"\\n        },\\n        {\\n            \"name\": \"abgeschlossene Berufsausbildung 1\",\\n            \"type\": \"Checkbox\",\\n            \"value\": \"Off\"\\n        },\\n        {\\n            \"name\": \"Schulabschluss 1\",\\n            \"type\": \"Checkbox\",\\n            \"value\": \"Off\"\\n        },\\n        {\\n            \"name\": \"ERWERBSLAND Abschluss 1\",\\n            \"type\": \"Text Input\",\\n            \"value\": \"Israel\"\\n        },\\n        {\\n            \"name\": \"TITEL Abschluss 1 bzw. REFERENZBERUF 1\",\\n            \"type\": \"Text Input\",\\n            \"value\": \"Lehramt + Bachelor in Education+ Master in Education\"\\n        },\\n        {\\n            \"name\": \"REGELDAUER AUSBILDUNG Abschluss 1\",\\n            \"type\": \"Text Input\",\\n            \"value\": \"7 Jahre\"\\n        },\\n        {\\n            \"name\": \"ABSCHLUSSJAHR Abschluss 1\",\\n            \"type\": \"Text Input\",\\n            \"value\": \"2013\"\\n        },\\n        {\\n            \"name\": \"HAT BERUFSERFAHRUNG IM AUSLAND Abschluss 1\",\\n            \"type\": \"Checkbox\",\\n            \"value\": \"Off\"\\n        },\\n        {\\n            \"name\": \"HAT BERUFSERFAHRUNG IN DEUTSCHLAND Abschluss 1\",\\n            \"type\": \"Checkbox\",\\n            \"value\": \"Off\"\\n        },\\n        {\\n            \"name\": \"HAT KEINE BERUFSERFAHRUNG Abschluss 1\",\\n            \"type\": \"Checkbox\",\\n            \"value\": \"Off\"\\n        },\\n        {\\n            \"name\": \"KEINE ANGABE BERUFSERFAHRUNG Abschluss 1\",\\n            \"type\": \"Checkbox\",\\n            \"value\": \"Off\"\\n        },\\n        {\\n            \"name\": \"DAUER BERUFSERFAHRUNG IM AUSLAND Abschluss 1\",\\n            \"type\": \"Text Input\",\\n            \"value\": \"30 Jahre\"\\n        },\\n        {\\n            \"name\": \"KEINE ANGABE Deutschkenntnisse\",\\n            \"type\": \"Checkbox\",\\n            \"value\": \"Off\"\\n        },\\n        {\\n            \"name\": \"KEINE ANGABE Fremdsprachenzertifikat\",\\n            \"type\": \"Checkbox\",\\n            \"value\": \"Off\"\\n        },\\n        {\\n            \"name\": \"Sprachniveau zertifiziert C1\",\\n            \"type\": \"Checkbox\",\\n            \"value\": \"Off\"\\n        },\\n        {\\n            \"name\": \"Sprachniveau zertifiziert C2\",\\n            \"type\": \"Checkbox\",\\n            \"value\": \"Off\"\\n        },\\n        {\\n            \"name\": \"Hochschulabschluss 2\",\\n            \"type\": \"Checkbox\",\\n            \"value\": \"Off\"\\n        },\\n        {\\n            \"name\": \"abgeschlossene Berufsausbildung 2\",\\n            \"type\": \"Checkbox\",\\n            \"value\": \"Off\"\\n        },\\n        {\\n            \"name\": \"Schulabschluss 2\",\\n            \"type\": \"Checkbox\",\\n            \"value\": \"Off\"\\n        },\\n        {\\n            \"name\": \"ERWERBSLAND Abschluss 2\",\\n            \"type\": \"Text Input\",\\n            \"value\": \"No value\"\\n        },\\n        {\\n            \"name\": \"TITEL Abschluss 2 bzw. REFERENZBERUF 2\",\\n            \"type\": \"Text Input\",\\n            \"value\": \"No value\"\\n        },\\n        {\\n            \"name\": \"REGELDAUER AUSBILDUNG Abschluss 2\",\\n            \"type\": \"Text Input\",\\n            \"value\": \"No value\"\\n        },\\n        {\\n            \"name\": \"ABSCHLUSSJAHR Abschluss 2\",\\n            \"type\": \"Text Input\",\\n            \"value\": \"No value\"\\n        },\\n        {\\n            \"name\": \"HAT BERUFSERFAHRUNG IM AUSLAND Abschluss 2\",\\n            \"type\": \"Checkbox\",\\n            \"value\": \"Off\"\\n        },\\n        {\\n            \"name\": \"HAT BERUFSERFAHRUNG IN DEUTSCHLAND Abschluss 2\",\\n            \"type\": \"Checkbox\",\\n            \"value\": \"Off\"\\n        },\\n        {\\n            \"name\": \"HAT KEINE BERUFSERFAHRUNG Abschluss 2\",\\n            \"type\": \"Checkbox\",\\n            \"value\": \"Off\"\\n        },\\n        {\\n            \"name\": \"KEINE ANGABE BERUFSERFAHRUNG Abschluss 2\",\\n            \"type\": \"Checkbox\",\\n            \"value\": \"Off\"\\n        },\\n        {\\n            \"name\": \"KEINE DEUTSCHKENNTNISSE\",\\n            \"type\": \"Checkbox\",\\n            \"value\": \"Off\"\\n        },\\n        {\\n            \"name\": \"keine Angabe zum Niveau des Sprachzertifikats\",\\n            \"type\": \"Checkbox\",\\n            \"value\": \"Off\"\\n        },\\n        {\\n            \"name\": \"NOTIZEN f\\\\u00fcr Verweise und Beratungsinhalte\",\\n            \"type\": \"Text Input\",\\n            \"value\": \"No value\"\\n        },\\n        {\\n            \"name\": \"ja Antrag auf\",\\n            \"type\": \"Checkbox\",\\n            \"value\": \"Off\"\\n        },\\n        {\\n            \"name\": \"ja Antrag auf ZAB\",\\n            \"type\": \"Checkbox\",\\n            \"value\": \"Off\"\\n        },\\n        {\\n            \"name\": \"nein_3\",\\n            \"type\": \"Checkbox\",\\n            \"value\": \"Off\"\\n        },\\n        {\\n            \"name\": \"Verfahren ist noch nicht\",\\n            \"type\": \"Checkbox\",\\n            \"value\": \"Off\"\\n        },\\n        {\\n            \"name\": \"volle Gleichwertigkeit\",\\n            \"type\": \"Checkbox\",\\n            \"value\": \"Off\"\\n        },\\n        {\\n            \"name\": \"Auflage einer\",\\n            \"type\": \"Checkbox\",\\n            \"value\": \"Off\"\\n        },\\n        {\\n            \"name\": \"teilweise Gleichwertigkeit\",\\n            \"type\": \"Checkbox\",\\n            \"value\": \"Off\"\\n        },\\n        {\\n            \"name\": \"Ablehnung\",\\n            \"type\": \"Checkbox\",\\n            \"value\": \"Off\"\\n        },\\n        {\\n            \"name\": \"keine Angabe_8\",\\n            \"type\": \"Checkbox\",\\n            \"value\": \"Off\"\\n        },\\n        {\\n            \"name\": \"Verfahren ist noch nicht_3\",\\n            \"type\": \"Checkbox\",\\n            \"value\": \"Off\"\\n        },\\n        {\\n            \"name\": \"positive ZAB\",\\n            \"type\": \"Checkbox\",\\n            \"value\": \"Off\"\\n        },\\n        {\\n            \"name\": \"Ablehnung der ZAB\",\\n            \"type\": \"Checkbox\",\\n            \"value\": \"Off\"\\n        },\\n        {\\n            \"name\": \"keine Angabe_10\",\\n            \"type\": \"Checkbox\",\\n            \"value\": \"Off\"\\n        },\\n        {\\n            \"name\": \"ja Antrag auf die\",\\n            \"type\": \"Checkbox\",\\n            \"value\": \"Off\"\\n        },\\n        {\\n            \"name\": \"ja Antrag auf die ZAB\",\\n            \"type\": \"Checkbox\",\\n            \"value\": \"Off\"\\n        },\\n        {\\n            \"name\": \"nein_4\",\\n            \"type\": \"Checkbox\",\\n            \"value\": \"Off\"\\n        },\\n        {\\n            \"name\": \"Verfahren ist noch nicht_2\",\\n            \"type\": \"Checkbox\",\\n            \"value\": \"Off\"\\n        },\\n        {\\n            \"name\": \"volle Gleichwertigkeit_2\",\\n            \"type\": \"Checkbox\",\\n            \"value\": \"Off\"\\n        },\\n        {\\n            \"name\": \"Auflage einer_2\",\\n            \"type\": \"Checkbox\",\\n            \"value\": \"Off\"\\n        },\\n        {\\n            \"name\": \"teilweise Gleichwertigkeit_2\",\\n            \"type\": \"Checkbox\",\\n            \"value\": \"Off\"\\n        },\\n        {\\n            \"name\": \"Ablehnung_2\",\\n            \"type\": \"Checkbox\",\\n            \"value\": \"Off\"\\n        },\\n        {\\n            \"name\": \"keine Angabe_9\",\\n            \"type\": \"Checkbox\",\\n            \"value\": \"Off\"\\n        },\\n        {\\n            \"name\": \"Verfahren ist noch nicht_4\",\\n            \"type\": \"Checkbox\",\\n            \"value\": \"Off\"\\n        },\\n        {\\n            \"name\": \"positive ZAB_2\",\\n            \"type\": \"Checkbox\",\\n            \"value\": \"Off\"\\n        },\\n        {\\n            \"name\": \"Ablehnung der ZAB_2\",\\n            \"type\": \"Checkbox\",\\n            \"value\": \"Off\"\\n        },\\n        {\\n            \"name\": \"keine Angabe_11\",\\n            \"type\": \"Checkbox\",\\n            \"value\": \"Off\"\\n        },\\n        {\\n            \"name\": \"DAUER BERUFSERFAHRUNG IN DEUTSCHLNAD Abschluss 1\",\\n            \"type\": \"Text Input\",\\n            \"value\": \"No value\"\\n        },\\n        {\\n            \"name\": \"DAUER BERUFSERFAHRUNG IM AUSLAND Abschluss 2\",\\n            \"type\": \"Text Input\",\\n            \"value\": \"No value\"\\n        },\\n        {\\n            \"name\": \"DAUER BERUFSERFAHRUNG IN DEUTSCHLNAD Abschluss 2\",\\n            \"type\": \"Text Input\",\\n            \"value\": \"No value\"\\n        },\\n        {\\n            \"name\": \"Beratung zu Anerkennungsm\\\\u00f6glichkeiten\",\\n            \"type\": \"Checkbox\",\\n            \"value\": \"Off\"\\n        },\\n        {\\n            \"name\": \"Beratung zu aufenthaltsrechtlichen M\\\\u00f6glichkeiten i V m Anerkennung\",\\n            \"type\": \"Checkbox\",\\n            \"value\": \"Off\"\\n        },\\n        {\\n            \"name\": \"Unterst\\\\u00fctzung bei der Antragstellung\",\\n            \"type\": \"Checkbox\",\\n            \"value\": \"Off\"\\n        },\\n        {\\n            \"name\": \"Verweisberatung zu F\\\\u00f6rderm\\\\u00f6glichkeiten des SGB II und SGB III\",\\n            \"type\": \"Checkbox\",\\n            \"value\": \"Off\"\\n        },\\n        {\\n            \"name\": \"Beratung zu nachrangigen F\\\\u00f6rderm\\\\u00f6glichkeiten zB Anerkennungszuschuss\",\\n            \"type\": \"Checkbox\",\\n            \"value\": \"Off\"\\n        },\\n        {\\n            \"name\": \"sonstige Themen bezogen auf das Anerkennungsverfahren\",\\n            \"type\": \"Checkbox\",\\n            \"value\": \"Off\"\\n        },\\n        {\\n            \"name\": \"Agentur f\\\\u00fcr Arbeit oder Jobcenter\",\\n            \"type\": \"Checkbox\",\\n            \"value\": \"Off\"\\n        },\\n        {\\n            \"name\": \"Arbeitgeber (Unternehmen)\",\\n            \"type\": \"Checkbox\",\\n            \"value\": \"Off\"\\n        },\\n        {\\n            \"name\": \"Ausl\\\\u00e4nderbeh\\\\u00f6rde\",\\n            \"type\": \"Checkbox\",\\n            \"value\": \"Off\"\\n        },\\n        {\\n            \"name\": \"Bildungsdienstleister\",\\n            \"type\": \"Checkbox\",\\n            \"value\": \"Off\"\\n        },\\n        {\\n            \"name\": \"Ehrenamtliche Unterst\\\\u00fctzung\",\\n            \"type\": \"Checkbox\",\\n            \"value\": \"Off\"\\n        },\\n        {\\n            \"name\": \"eigene \\\\u00d6ffentlichkeitsarbeit zB Projektwebseite Flyer Infoveranstaltung\",\\n            \"type\": \"Checkbox\",\\n            \"value\": \"Off\"\\n        },\\n        {\\n            \"name\": \"IQ interner Verweis\",\\n            \"type\": \"Checkbox\",\\n            \"value\": \"Off\"\\n        },\\n        {\\n            \"name\": \"IQ externe \\\\u00d6ffentlichkeitsarbeit Internet Presse Anerkennungsportal BIBB Social\",\\n            \"type\": \"Checkbox\",\\n            \"value\": \"Off\"\\n        },\\n        {\\n            \"name\": \"pers\\\\u00f6nliche Empfehlung\",\\n            \"type\": \"Checkbox\",\\n            \"value\": \"Off\"\\n        },\\n        {\\n            \"name\": \"Zentrale Servicestelle Berufsanerkennung ZSBA in Bonn\",\\n            \"type\": \"Checkbox\",\\n            \"value\": \"Off\"\\n        },\\n        {\\n            \"name\": \"sonstiges\",\\n            \"type\": \"Checkbox\",\\n            \"value\": \"Off\"\\n        },\\n        {\\n            \"name\": \"keine Angabe_14\",\\n            \"type\": \"Checkbox\",\\n            \"value\": \"Off\"\\n        },\\n        {\\n            \"name\": \"Beratung zu Qualifizierungsm\\\\u00f6glichkeiten\",\\n            \"type\": \"Checkbox\",\\n            \"value\": \"Off\"\\n        },\\n        {\\n            \"name\": \"Beratung zu aufenthaltsrechtlichen M\\\\u00f6glichkeiten\",\\n            \"type\": \"Checkbox\",\\n            \"value\": \"Off\"\\n        },\\n        {\\n            \"name\": \"Verweisberatung zu F\\\\u00f6rderm\\\\u00f6glichkeiten des SGB II und SGB III_2\",\\n            \"type\": \"Checkbox\",\\n            \"value\": \"Off\"\\n        },\\n        {\\n            \"name\": \"Beratung zu nachrangigen F\\\\u00f6rderm\\\\u00f6glichkeiten zB IQ Individualf\\\\u00f6rderung\",\\n            \"type\": \"Checkbox\",\\n            \"value\": \"Off\"\\n        },\\n        {\\n            \"name\": \"Verweis in Qualifizierung im Kontext des Anerkennungsgesetzes\",\\n            \"type\": \"Checkbox\",\\n            \"value\": \"Off\"\\n        },\\n        {\\n            \"name\": \"sonstige Themen bezogen auf Qualifizierungen im Kontext des Anerkennungsgesetzes\",\\n            \"type\": \"Checkbox\",\\n            \"value\": \"Off\"\\n        },\\n        {\\n            \"name\": \"ja Antrag auf_3\",\\n            \"type\": \"Checkbox\",\\n            \"value\": \"Off\"\\n        },\\n        {\\n            \"name\": \"beides\",\\n            \"type\": \"Checkbox\",\\n            \"value\": \"Off\"\\n        },\\n        {\\n            \"name\": \"Folgeberatung 2\",\\n            \"type\": \"Checkbox\",\\n            \"value\": \"Off\"\\n        },\\n        {\\n            \"name\": \"Folgeberatung 1\",\\n            \"type\": \"Checkbox\",\\n            \"value\": \"Off\"\\n        },\\n        {\\n            \"name\": \"pers\\\\u00f6nliche Beratung mobil / au\\\\u00dfer Haus\",\\n            \"type\": \"Checkbox\",\\n            \"value\": \"Off\"\\n        },\\n        {\\n            \"name\": \"digitale Beratung - E-Mail, Video Call\",\\n            \"type\": \"Checkbox\",\\n            \"value\": \"Off\"\\n        },\\n        {\\n            \"name\": \"Erstkontakt pers\\\\u00f6nlich\",\\n            \"type\": \"Checkbox\",\\n            \"value\": \"Off\"\\n        },\\n        {\\n            \"name\": \"pers\\\\u00f6nliche Beratung am Beratungsstandort\",\\n            \"type\": \"Checkbox\",\\n            \"value\": \"Off\"\\n        },\\n        {\\n            \"name\": \"telefonische Beratung\",\\n            \"type\": \"Checkbox\",\\n            \"value\": \"Off\"\\n        },\\n        {\\n            \"name\": \"sonstige Themen bez. auf das Anerkennungsverfahren\",\\n            \"type\": \"Text Input\",\\n            \"value\": \"No value\"\\n        },\\n        {\\n            \"name\": \"sonstige Themen bez. auf Qualifizierungen im Konketxt des Anerkennungsgesetzes\",\\n            \"type\": \"Text Input\",\\n            \"value\": \"No value\"\\n        },\\n        {\\n            \"name\": \"Ergebnis des Bescheids\",\\n            \"type\": \"Text Input\",\\n            \"value\": \"No value\"\\n        },\\n        {\\n            \"name\": \"ja, Antrag auf GLEICHWERTIGKEITSPR\\\\u00dcFUNG\",\\n            \"type\": \"Checkbox\",\\n            \"value\": \"Off\"\\n        },\\n        {\\n            \"name\": \"ja, beides\",\\n            \"type\": \"Checkbox\",\\n            \"value\": \"Off\"\\n        },\\n        {\\n            \"name\": \"ja, Antrag auf ZAB-Zeugnisbewerbung\",\\n            \"type\": \"Checkbox\",\\n            \"value\": \"Off\"\\n        },\\n        {\\n            \"name\": \"nein\",\\n            \"type\": \"Checkbox\",\\n            \"value\": \"Off\"\\n        },\\n        {\\n            \"name\": \"keine Angabe\",\\n            \"type\": \"Checkbox\",\\n            \"value\": \"Off\"\\n        },\\n        {\\n            \"name\": \"sonstige Wege zu IQ\",\\n            \"type\": \"Text Input\",\\n            \"value\": \"No value\"\\n        }\\n    ]\\n}'"
            ],
            "application/vnd.google.colaboratory.intrinsic+json": {
              "type": "string"
            }
          },
          "metadata": {},
          "execution_count": 68
        }
      ]
    },
    {
      "cell_type": "markdown",
      "source": [
        "## Header"
      ],
      "metadata": {
        "id": "AsLOnw8SuazQ"
      }
    },
    {
      "cell_type": "code",
      "source": [
        "# IMPORTANT: There are single and multiple choices. Which are single and which are multiple choices? How do you deal with multiple choices? What does the database expect at this point?\n",
        "# Prompt for extracting specific data from the PDF/JSON\n",
        "prompt = \"\"\"\n",
        "Extract the required \"value\" for the names from the provided JSON.\n",
        "\"\"\" + extract_form_fields(pdf_path) + \"\"\"\n",
        "The following list corresponds to the values that need to be extracted from the provided JSON:\n",
        "\"name\": \"DATUM der Beratung\";\n",
        "\"name\": \"NAME BERATER*IN\";\n",
        "Extract the \"name\" value from the JSON where \"value\" is set to \"On\", but only between the following names: \"Telefonberatung\" and \"schriftliche Einwilligungserklärung liegt vor\".\n",
        "\n",
        "Output only the marked text. Format the output as CSV with the headers:\n",
        "Datum;\n",
        "Berater*in;\n",
        "Beratung.\n",
        "\n",
        "Use semicolons as separators.\n",
        "If a piece of information is missing, leave the field blank.\n",
        "Only extract the dataset in the CSV format.\n",
        "Do not include any additional information, explanations, or text.\"\"\""
      ],
      "metadata": {
        "id": "Yz0UjXXkkVza"
      },
      "execution_count": 77,
      "outputs": []
    },
    {
      "cell_type": "code",
      "source": [
        "# Send the PDF and prompt to Google GenAI for content generation\n",
        "response = client.models.generate_content(\n",
        "  model=\"gemini-1.5-flash\",\n",
        "  contents=[\n",
        "      types.Part.from_bytes(\n",
        "        data=filepath.read_bytes(),\n",
        "        mime_type='application/pdf',\n",
        "      ),\n",
        "      prompt])"
      ],
      "metadata": {
        "id": "4TaaF3UpkmTA"
      },
      "execution_count": 78,
      "outputs": []
    },
    {
      "cell_type": "code",
      "source": [
        "# Print the response text for debugging or confirmation\n",
        "print(response.text)"
      ],
      "metadata": {
        "colab": {
          "base_uri": "https://localhost:8080/"
        },
        "id": "219xUlJgkoyj",
        "outputId": "3d39d99f-be38-4d12-f1b4-de414f77f136"
      },
      "execution_count": 79,
      "outputs": [
        {
          "output_type": "stream",
          "name": "stdout",
          "text": [
            "Datum;Berater*in;Beratung\n",
            "30.07.24;DV;\n",
            "\n",
            "\n"
          ]
        }
      ]
    },
    {
      "cell_type": "markdown",
      "source": [
        "## Persönliche Daten Ratsuchend*er (RS*)"
      ],
      "metadata": {
        "id": "-mM3TmNtuO8y"
      }
    },
    {
      "cell_type": "code",
      "source": [
        "# IMPORTANT: The extraction of the information for \"Geschlecht:\" seems to be difficult.\n",
        "# Prompt for extracting specific data from the PDF\n",
        "prompt = \"\"\"\n",
        "Extract the required information from either the PDF or the provided JSON.\n",
        "If the information is available in the JSON, use it instead of extracting it from the PDF.\n",
        "The JSON always takes priority over the PDF. Only extract data from the PDF if it is missing from the JSON.\n",
        "\"\"\" + extract_checked_checkboxes(pdf_path) + \"\"\"\n",
        "Field 1: Extract the \"name\" values from the JSON where \"state\" is set to \"On\", but only for the following names: \"RS selbst\" and \"soziales Umfeld\";\n",
        "Next to \"Name:\";\n",
        "\n",
        "\n",
        "Output only the marked text. Format the output as CSV with the headers:\n",
        "Wer nimmt die Beratung wahr?;\n",
        "Name;\n",
        "\n",
        "\n",
        "Use semicolons as separators.\n",
        "If a piece of information is missing, leave the field blank.\n",
        "Only extract the dataset in the CSV format.\n",
        "Do not include any additional information, explanations, or text.\"\"\""
      ],
      "metadata": {
        "id": "GDa6ez1Or3KG"
      },
      "execution_count": 53,
      "outputs": []
    },
    {
      "cell_type": "code",
      "source": [
        "# Send the PDF and prompt to Google GenAI for content generation\n",
        "response = client.models.generate_content(\n",
        "  model=\"gemini-1.5-flash\",\n",
        "  contents=[\n",
        "      types.Part.from_bytes(\n",
        "        data=filepath.read_bytes(),\n",
        "        mime_type='application/pdf',\n",
        "      ),\n",
        "      prompt])"
      ],
      "metadata": {
        "id": "-3kUcaRCslP-"
      },
      "execution_count": 54,
      "outputs": []
    },
    {
      "cell_type": "code",
      "source": [
        "# Print the response text for debugging or confirmation\n",
        "print(response.text)"
      ],
      "metadata": {
        "colab": {
          "base_uri": "https://localhost:8080/"
        },
        "id": "w0ACAWLospzD",
        "outputId": "be888f5d-6ba2-4372-d2d2-9f099058d070"
      },
      "execution_count": 55,
      "outputs": [
        {
          "output_type": "stream",
          "name": "stdout",
          "text": [
            "Wer nimmt die Beratung wahr?;Name;\n",
            "Person mit ausl. Abschl.;;\n",
            "selbst;soziales Umfeld;\n"
          ]
        }
      ]
    },
    {
      "cell_type": "markdown",
      "source": [
        "## Berufliche Situation und Aufenthaltsstatus"
      ],
      "metadata": {
        "id": "elR-miCHu3N5"
      }
    },
    {
      "cell_type": "code",
      "source": [
        "# IMPORTANT: Each field extraction must be provided with the addition \"If the checkbox is not checked, leave the field blank.\".\n",
        "# Prompt for extracting specific data from the PDF\n",
        "prompt = \"\"\"\n",
        "Extract the following information from the attached PDF and return it as CSV:\n",
        "Extract the content of the fields that are marked with a checked checkbox (✔ or ☑) next to the heading \"Ist der/die RS erwerbstätig\". The options are 'ja, im Ausland', 'nein', 'keine Angabe', 'ja, in Deutschland' and 'nein, jedoch im Aus-/Weiterbildung/Qualifizierung';\n",
        "Extract the content of the fields that are marked with a checked checkbox (✔ or ☑) next to the heading \"Art der Erwerbstätigkeit\". The options are 'beitragspflichtig beschäftigt', 'geringfügig beschäftigt' and 'selbstständig'. If the checkbox is not checked, leave the field blank.\n",
        "\n",
        "Output only the marked text. Format the output as CSV with the headers:\n",
        "Ist der/die RS erwerbstätig;\n",
        "Art der Erwerbstätigkeit.\n",
        "\n",
        "Use semicolons as separators. If a piece of information is missing, leave the field blank. Only extract the dataset in the CSV format. Do not include any additional information, explanations, or text.\"\"\""
      ],
      "metadata": {
        "id": "hzh6QwGsukku"
      },
      "execution_count": null,
      "outputs": []
    },
    {
      "cell_type": "code",
      "source": [
        "# Send the PDF and prompt to Google GenAI for content generation\n",
        "response = client.models.generate_content(\n",
        "  model=\"gemini-1.5-flash\",\n",
        "  contents=[\n",
        "      types.Part.from_bytes(\n",
        "        data=filepath.read_bytes(),\n",
        "        mime_type='application/pdf',\n",
        "      ),\n",
        "      prompt])"
      ],
      "metadata": {
        "id": "OAgwO2UVuk2z"
      },
      "execution_count": null,
      "outputs": []
    },
    {
      "cell_type": "code",
      "source": [
        "# Print the response text for debugging or confirmation\n",
        "print(response.text)"
      ],
      "metadata": {
        "colab": {
          "base_uri": "https://localhost:8080/"
        },
        "id": "guA7Xv1Guk5C",
        "outputId": "3dfdc4e0-9af3-4a9a-b9ce-975d555f17ff"
      },
      "execution_count": null,
      "outputs": [
        {
          "output_type": "stream",
          "name": "stdout",
          "text": [
            "```csv\n",
            "Ist der/die RS erwerbstätig;Art der Erwerbstätigkeit\n",
            "nein;\n",
            "```\n",
            "\n"
          ]
        }
      ]
    },
    {
      "cell_type": "markdown",
      "source": [
        "## Bezug & Status"
      ],
      "metadata": {
        "id": "yGn-iemb0p6_"
      }
    },
    {
      "cell_type": "code",
      "source": [
        "# IMPORTANT: Each field extraction must be provided with the addition \"If the checkbox is not checked, leave the field blank.\".\n",
        "# Prompt for extracting specific data from the PDF\n",
        "prompt = \"\"\"\n",
        "Extract the following information from the attached PDF and return it as CSV:\n",
        "Extract the content of the fields that are marked with a checked checkbox. But only between he following options: 'ohne Leistungsbezug', 'ohne Leistungsbezug, jedoch arbeitssuchend gemeldet', 'mit (ergänzendem) SGB II-Leistungsbezug', 'mit SGB III-Leistungsbezug', 'mit SGB III- und SGB II-Leistungsbezug', 'mit (ergänzendem) Asylbewerberleistungsbezug' and 'keine Angabe'. If the checkbox is not checked, leave the field blank.;\n",
        "Extract the content of the fields that are marked with a checked checkbox.\n",
        "But only between he following options:\n",
        "'Aufenthaltserlaubnis zur Arbeitsplatzsuche (§20 AufenthG)',\n",
        "'Aufenthaltserlaubnis für in anderen Mitgliedsstaaten der Europäischen Unionlangfristig Aufenthaltsberechtigte (§38a AufenthG)',\n",
        "'Aufenthaltsgestattung (§55 Abs. 1 AsylVfG)',\n",
        "'Aufenthalt aus familiären Gründen (§27-36 AufenthG)',\n",
        "'Aufenthalt aus völkerrechtlichen, humanitären oder politischen Gründen(22-26, 104a, 104b AufenthG)',\n",
        "'Aufenthalt zum Zweck der Ausbildung (§16a und 17 AufenthG)',\n",
        "'Aufenthalt zum Zweck der Erwerbstätigkeit (§18, 18a, 20, 21 AufenthG)',\n",
        "'Aufenthalt zum Zweck einer Anpassungsqualifizierung oder einer Kenntnisprüfung16d AufenthG)',\n",
        "'Blaue Karte EU (§18b, Abs. 2 AufenthG)',\n",
        "'Duldung (§60a, 60b, 60c, 60d AufenthG)',\n",
        "'Niederlassungserlaubnis (§9 AufenthG)',\n",
        "'Staatsbürger-/in EU/EWR/Schweiz oder Freizügigkeit 2-5, §§12-13, §15 FreizügG/EU, §28 AufenthV)☐Visum (§6 AufenthG)' and\n",
        "'kein Aufenthaltstitel, da Wohnsitz im Ausland'\n",
        "If the checkbox is not checked, leave the field blank.\n",
        "\n",
        "Output only the marked text. Format the output as CSV with the headers:\n",
        "Leistungsbezug;\n",
        "Art der Erwerbstätigkeit.\n",
        "\n",
        "Use semicolons as separators. If a piece of information is missing, leave the field blank. Only extract the dataset in the CSV format. Do not include any additional information, explanations, or text.\"\"\""
      ],
      "metadata": {
        "id": "72oT7qZ00qmb"
      },
      "execution_count": null,
      "outputs": []
    },
    {
      "cell_type": "code",
      "source": [
        "# Send the PDF and prompt to Google GenAI for content generation\n",
        "response = client.models.generate_content(\n",
        "  model=\"gemini-1.5-flash\",\n",
        "  contents=[\n",
        "      types.Part.from_bytes(\n",
        "        data=filepath.read_bytes(),\n",
        "        mime_type='application/pdf',\n",
        "      ),\n",
        "      prompt])"
      ],
      "metadata": {
        "id": "0tyU38nm0qvI"
      },
      "execution_count": null,
      "outputs": []
    },
    {
      "cell_type": "code",
      "source": [
        "# Print the response text for debugging or confirmation\n",
        "print(response.text)"
      ],
      "metadata": {
        "colab": {
          "base_uri": "https://localhost:8080/"
        },
        "id": "oViiP-x_0q8c",
        "outputId": "37adb698-f45c-48dd-8629-9497aa065d84"
      },
      "execution_count": null,
      "outputs": [
        {
          "output_type": "stream",
          "name": "stdout",
          "text": [
            "```csv\n",
            "Leistungsbezug;Art der Erwerbstätigkeit\n",
            ";beitragspflichtig beschäftigt\n",
            "```\n",
            "\n"
          ]
        }
      ]
    },
    {
      "cell_type": "code",
      "source": [
        "# Define the output CSV filename\n",
        "filename = \"/content/EIGENE_DATEIEN/DATA.csv\""
      ],
      "metadata": {
        "id": "HEFugg5jkrCo"
      },
      "execution_count": null,
      "outputs": []
    },
    {
      "cell_type": "code",
      "source": [
        "def extract_checked_checkboxes(pdf_path):\n",
        "    \"\"\"\n",
        "    Extrahiert und gibt alle aktivierten Checkboxen aus einem PDF-Dokument aus.\n",
        "\n",
        "    Parameter:\n",
        "    pdf_path (str): Der Pfad zur PDF-Datei.\n",
        "\n",
        "    Ablauf:\n",
        "    1. Öffnet das PDF-Dokument mit PyMuPDF (fitz).\n",
        "    2. Durchläuft alle Seiten des Dokuments.\n",
        "    3. Sucht nach interaktiven Feldern (Widgets) auf jeder Seite.\n",
        "    4. Prüft, ob das Widget vom Typ \"Checkbox\" ist.\n",
        "    5. Wenn die Checkbox aktiviert ist (\"On\"), wird ihr Name und Wert ausgegeben.\n",
        "    \"\"\"\n",
        "\n",
        "    doc = fitz.open(pdf_path)  # PDF-Dokument öffnen\n",
        "\n",
        "    for page in doc:  # Jede Seite im Dokument durchlaufen\n",
        "        for widget in page.widgets():  # Alle interaktiven Felder der Seite durchgehen\n",
        "            if widget.field_type == 2:  # Prüfen, ob es sich um eine Checkbox handelt (2 = Checkbox)\n",
        "                value = widget.field_value  # Wert der Checkbox abrufen\n",
        "                if value == \"On\":  # Nur aktivierte Checkboxen weiterverarbeiten\n",
        "                    print(f\"Feldname: '{widget.field_name}' | Wert: '{value}'\")  # Name und Wert ausgeben"
      ],
      "metadata": {
        "id": "9a1X2KNd-jcp"
      },
      "execution_count": 11,
      "outputs": []
    },
    {
      "cell_type": "code",
      "source": [
        "pdf_path = \"/TO_LOAD.pdf\"\n",
        "extract_checked_checkboxes(pdf_path)"
      ],
      "metadata": {
        "id": "me2OIYfc2LQt",
        "outputId": "40bdc6b2-efa1-47cd-dd28-185c3e1dadf4",
        "colab": {
          "base_uri": "https://localhost:8080/"
        }
      },
      "execution_count": 12,
      "outputs": [
        {
          "output_type": "stream",
          "name": "stdout",
          "text": [
            "Feldname: 'Telefonberatung' | Wert: 'On'\n",
            "Feldname: 'schriftliche Einwilligungserklärung liegt vor' | Wert: 'On'\n"
          ]
        }
      ]
    }
  ],
  "metadata": {
    "colab": {
      "name": "Willkommen bei Colaboratory",
      "provenance": [],
      "include_colab_link": true
    },
    "kernelspec": {
      "display_name": "Python 3",
      "name": "python3"
    }
  },
  "nbformat": 4,
  "nbformat_minor": 0
}